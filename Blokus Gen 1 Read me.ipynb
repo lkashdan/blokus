{
 "cells": [
  {
   "cell_type": "markdown",
   "metadata": {},
   "source": [
    "# Overview of Project's Purpose\n",
    "\n",
    "### Blokus Isn't For Everyone\n",
    "\n",
    "We play more Blokus than other game in my home. (If Blokus is unfamiliar, [check out the rules and details here](http://www.charleston.k12.il.us/cms/teachers/teamred/games/blokus.pdf)). In this free-for-all four-player game, conflict naturally arises throughout gameplay. As a consequence, the conflict has weeded out some of our roommates which leaves just three players in the house who consistently play.\n",
    "\n",
    "### Three is Less Than Four\n",
    "\n",
    "Blokus can be played with three players. Each round, a different player takes a turn for the ghost fourth player, which will help simulate a four-player game. But this ghost fourth player only acts in the interests of the human making the move. Whenever it's my turn to move with the ghost player, I generally try to block one or two of the other housemates. It's as if I am playing with two colors for one turn.\n",
    "\n",
    "This three player dynamic can be fun, and we have found tweaks that make the game more fair. However, **I wanted to try and produce a new playing experience where we have a fourth player playing to win for themself.**\n",
    "\n",
    "\n",
    "### Goals of Blokus Gen 1\n",
    "\n",
    "#### The main goal was to produce a program that could act as the fourth player in a Blokus game. These were the requirements:\n",
    "\n",
    "1. The computer followed the game rules.\n",
    "2. Computer would be impartial even though I was tempted to program it to attack Sam at all costs.\n",
    "3. The computer would not disrupt the game flow. The computer play would not take too long or be too cumbersome to work with.\n",
    "\n",
    "**See below for a high level description of how these goals were accomplished.**\n",
    "\n",
    "### Follow-Up Steps for Blokus Gen 2\n",
    "\n",
    "After a first wave of games played with Blokus Gen 1 (AKA Anna), we found that we were playing different games than what we had experienced with the traditional three-player format. However, Anna was so bad at game strategy that she was often exploited and out of moves around the midpoint of the game. \n",
    "\n",
    "The GUI setup is not elegant. As is, it's sufficient, but some tweaks could make it easier for humans to read the moves played by Anna.\n",
    "\n",
    "#### These are the goals for Blokus Gen 2\n",
    "\n",
    "1. Get Blokus Gen 2 to consistently play at least 15 pieces on the board. Currently at about 10 moves per game.\n",
    "2. Bolster user experience with GUI."
   ]
  },
  {
   "cell_type": "markdown",
   "metadata": {},
   "source": [
    "# How Blokus Gen 1 was Built\n",
    "\n",
    "## Part 1 - Conceptualizing the Game Flow with a Computer\n",
    "\n",
    "We were not going to transition from playing Blokus as a board game to playing Blokus as a computer game. We like the social component of playing as a board game. In order to make the computer play, we would have to 1) manually input moves made from the board, 2) have the computer play a piece, and 3) have us manually place the computer's move onto the game board.\n",
    "\n",
    "Unfortunately, my experience with GUIs was limited so I was initially challenged with how this project would work. I was hoping the internet would come through with help. \n",
    "\n",
    "To my delight, the internet came through...well sort-of. From a [stackoverflow post](https://stackoverflow.com/questions/43432676/how-to-create-a-20x20-grid-of-tiles-in-tkinter-then-change-the-color-of-a-specif), pkqxdd had built a Blokus board with tkinter that would change color if one of the colors of the grids was clicked. See below for view of the grid and what happens with a click.\n",
    "\n",
    "The code did not solve everything, but it provided a roadmap for how the gameplay could work with the computer. We would be able to click in the pieces played by humans and then generate a move from the computer. The GUI component of the project was largely all set."
   ]
  },
  {
   "cell_type": "code",
   "execution_count": 17,
   "metadata": {},
   "outputs": [
    {
     "data": {
      "text/html": [
       "<img src = \"tkinterBlokus1.png\">"
      ],
      "text/plain": [
       "<IPython.core.display.HTML object>"
      ]
     },
     "metadata": {},
     "output_type": "display_data"
    }
   ],
   "source": [
    "%%HTML\n",
    "<img src = \"tkinterBlokus1.png\">"
   ]
  },
  {
   "cell_type": "markdown",
   "metadata": {},
   "source": [
    "## Part 2 - Teaching Blokus to a computer\n",
    "\n",
    "I decided to build a solution for how a computer would play a piece in a Blokus game. This part will outline some of the details of how I executed the program.\n",
    "\n",
    "### Blokus Pieces\n",
    "\n",
    "The first step was building a way to represent the Blokus piece that would be compatible for gameplay. Blokus Pieces span from 1 grid space to five grid spaces. Every piece is different in its shape and utility. These are what they look like:"
   ]
  },
  {
   "cell_type": "code",
   "execution_count": 19,
   "metadata": {},
   "outputs": [
    {
     "data": {
      "text/html": [
       "<img src = \"blokuspieces.png\">"
      ],
      "text/plain": [
       "<IPython.core.display.HTML object>"
      ]
     },
     "metadata": {},
     "output_type": "display_data"
    }
   ],
   "source": [
    "%%HTML\n",
    "<img src = \"blokuspieces.png\">"
   ]
  },
  {
   "cell_type": "markdown",
   "metadata": {},
   "source": [
    "Imagine you are playing Blokus and you want to play one of your pieces at the yellow square shown below:"
   ]
  },
  {
   "cell_type": "code",
   "execution_count": 21,
   "metadata": {},
   "outputs": [
    {
     "data": {
      "text/html": [
       "<img src = \"playexample1.png\">"
      ],
      "text/plain": [
       "<IPython.core.display.HTML object>"
      ]
     },
     "metadata": {},
     "output_type": "display_data"
    }
   ],
   "source": [
    "%%HTML\n",
    "<img src = \"playexample1.png\">"
   ]
  },
  {
   "cell_type": "markdown",
   "metadata": {},
   "source": [
    "If you choose to play the 2x2 square, then there is effectively only one way to play it. The piece only fits one way and is symmetrical. You can rotate it but that doesn't change the placement of the board. **Now if you want to play the 'F' piece (middle of bottom row in picture w/ pieces), how many different ways can it be played in this context?** \n",
    "\n",
    "First think about which part of the 'F' could be played at the yellow corner square. For this piece, four out of five squares could be played at the corner. Additionally, there rotations and mirrors that produce more options. **In total, I found 14 different ways that this F piece could be played in this context. The examples are shown below.**"
   ]
  },
  {
   "cell_type": "code",
   "execution_count": 23,
   "metadata": {},
   "outputs": [
    {
     "data": {
      "text/html": [
       "<img src = \"playexampleF_1.png\">\n",
       "%%HTML\n",
       "<img src = \"playexampleF_2.png\">"
      ],
      "text/plain": [
       "<IPython.core.display.HTML object>"
      ]
     },
     "metadata": {},
     "output_type": "display_data"
    }
   ],
   "source": [
    "%%HTML\n",
    "<img src = \"playexampleF_1.png\">\n",
    "%%HTML\n",
    "<img src = \"playexampleF_2.png\">"
   ]
  },
  {
   "cell_type": "markdown",
   "metadata": {},
   "source": [
    "#### Rotating and Mirroring Pieces\n",
    "\n",
    "Since the game board fills up with pieces and space quickly becomes limited, it is important for the computer to identify all possible ways to play a given piece. Otherwise, they will miss moves that could be played.\n",
    "\n",
    "To fully create the range of options for each piece, I defined each piece in a 5x5 array which allow for an easier time rotating and mirroring to produce the range of options. Below shows my definition of the Blokus Pieces as well as the methods for rotating and mirroring them:"
   ]
  },
  {
   "cell_type": "code",
   "execution_count": 2,
   "metadata": {
    "collapsed": true
   },
   "outputs": [],
   "source": [
    "#Each piece has a name, the number of playable edges and their dimensions built within a 5x5 array. \n",
    "#playable edges means that a given square on a blokus piece could be placed at the corner of play.\n",
    "PIECES = [\n",
    "    ('I1', 2,[2,0,0,0,0], [0,0,0,0,0], [0,0,0,0,0],[0,0,0,0,0],[0,0,0,0,0]),\n",
    "    ('I2', 2,[2,1,0,0,0], [0,0,0,0,0], [0,0,0,0,0],[0,0,0,0,0],[0,0,0,0,0]),\n",
    "    ('F5', 5,[0,2,3,0,0], [4,1,0,0,0], [0,5,0,0,0],[0,0,0,0,0],[0,0,0,0,0]),\n",
    "    ('I3', 2,[2,1,1,0,0], [0,0,0,0,0], [0,0,0,0,0],[0,0,0,0,0],[0,0,0,0,0]),\n",
    "    ('I4', 2,[2,1,1,1,0], [0,0,0,0,0], [0,0,0,0,0],[0,0,0,0,0],[0,0,0,0,0]),\n",
    "    ('I5', 2,[2,1,1,1,1], [0,0,0,0,0], [0,0,0,0,0],[0,0,0,0,0],[0,0,0,0,0]),\n",
    "    ('L4', 4,[4,1,2,0,0], [3,0,0,0,0], [0,0,0,0,0],[0,0,0,0,0],[0,0,0,0,0]),\n",
    "    ('L5', 4,[2,1,3,0,0], [1,0,0,0,0], [4,0,0,0,0],[0,0,0,0,0],[0,0,0,0,0]),\n",
    "    ('O4', 2,[2,1,0,0,0], [1,1,0,0,0], [0,0,0,0,0],[0,0,0,0,0],[0,0,0,0,0]),\n",
    "    ('P5', 4,[4,1,1,2,0], [3,0,0,0,0], [0,0,0,0,0],[0,0,0,0,0],[0,0,0,0,0]),\n",
    "    ('Q5', 5,[2,4,0,0,0], [5,1,0,0,0], [3,0,0,0,0],[0,0,0,0,0],[0,0,0,0,0]),\n",
    "    ('S5', 5,[2,1,3,0,0], [0,0,4,5,0], [0,0,0,0,0],[0,0,0,0,0],[0,0,0,0,0]),\n",
    "    ('T4', 4,[2,1,3,0,0], [0,4,0,0,0], [0,0,0,0,0],[0,0,0,0,0],[0,0,0,0,0]),\n",
    "    ('T5', 4,[2,1,3,0,0], [0,1,0,0,0], [0,4,0,0,0],[0,0,0,0,0],[0,0,0,0,0]),\n",
    "    ('U5', 5,[2,1,3,0,0], [4,0,5,0,0], [0,0,0,0,0],[0,0,0,0,0],[0,0,0,0,0]),\n",
    "    ('V3', 3,[2,3,0,0,0], [1,0,0,0,0], [0,0,0,0,0],[0,0,0,0,0],[0,0,0,0,0]),\n",
    "    ('W5', 5,[0,2,3,0,0], [4,5,0,0,0], [1,0,0,0,0],[0,0,0,0,0],[0,0,0,0,0]),\n",
    "    ('X5', 2,[0,2,0,0,0], [1,1,1,0,0], [0,1,0,0,0],[0,0,0,0,0],[0,0,0,0,0]),\n",
    "    ('Y5', 4,[2,1,1,3,0], [0,4,0,0,0], [0,0,0,0,0],[0,0,0,0,0],[0,0,0,0,0]),\n",
    "    ('Z4', 4,[0,2,1,0,0], [4,3,0,0,0], [0,0,0,0,0],[0,0,0,0,0],[0,0,0,0,0]),\n",
    "    ('Z5', 5,[2,3,0,0,0], [0,1,0,0,0], [0,4,5,0,0],[0,0,0,0,0],[0,0,0,0,0]),\n",
    "] \n",
    "\n",
    "def rotate(self):\n",
    "        '''rotate the blokus piece 90 degrees clockwise'''\n",
    "        size = 5\n",
    "                \n",
    "        for layer in range(0,2):\n",
    "            first = layer\n",
    "            last = size - first - 1\n",
    "                  \n",
    "            # Move within a single layer (i.e. element loop).\n",
    "            for element in range(first, last):\n",
    "    \n",
    "                offset = element - first\n",
    "    \n",
    "                top = self.dim[first][element]\n",
    "                right_side = self.dim[element][last]\n",
    "                bottom = self.dim[last][last-offset]\n",
    "                left_side = self.dim[last-offset][first]\n",
    "    \n",
    "                self.dim[first][element] = left_side\n",
    "                self.dim[element][last] = top\n",
    "                self.dim[last][last-offset] = right_side\n",
    "                self.dim[last-offset][first] = bottom\n",
    "            \n",
    "        return self\n",
    "    \n",
    "def mirror(self):\n",
    "    '''produces mirror dimensions of a blokus piece'''\n",
    "    first = self.dim[0]\n",
    "    second = self.dim[1]\n",
    "    third = self.dim[2]\n",
    "    fourth = self.dim[3]\n",
    "    fifth = self.dim[4]\n",
    "\n",
    "    mirror = (fifth, fourth, third, second, first)\n",
    "\n",
    "    self.dim = mirror\n",
    "\n",
    "    return self\n"
   ]
  },
  {
   "cell_type": "markdown",
   "metadata": {},
   "source": [
    "#### BlokusPiece Registry\n",
    "\n",
    "The BlokusPiece class stores all the Blokus Pieces for play, but also keeps a registry of all the pieces. This registry is then used in the Board class when playing a piece. Each time a piece is played, it is then removed from the registry.\n",
    "\n",
    "#### pieceList method\n",
    "\n",
    "The pieceList method will be an input into the function that plays a piece on the board. The pieceList method sorts all remaining pieces in the registry by size (largest to smallest) and then randomly sorts within each piece size. This sorting by size allows for the playPiece method to prioritize trying to play the largest available pieces first.\n",
    "\n",
    "Next section will discuss methods within the Board Class, which is where the playPiece method lives.\n"
   ]
  },
  {
   "cell_type": "markdown",
   "metadata": {},
   "source": [
    "### Choosing a Corner\n",
    "\n",
    "On the first move, the corner to be played is always at the corner of the board or [0,0] coordinates on the game board. That's the easy part. \n",
    "\n",
    "After the first move, the program identifies all the squares on the grid that are covered by Anna's pieces. It then scans all four corners of each played grid space to identify available corners. Due to potential index errors on the edges of the board, this code was most cumbersome to handle and is reponsible for most of the lines in the blokusMethods script.\n",
    "\n",
    "#### Straddling Board Advancement with Unpredictability\n",
    "\n",
    "After the first move is made, there are typically multiple corners to play from and many more corners to play off of when 5 moves in. From our playing experience, we have seen that winning players typically advance far from their own quadrant of the board. With Anna, it would be important for her to prioritize advancement away from her starting position. At the same time, good players have a flair for unpredictability. If we can always predict which corner Anna will choose, it will allow us to adjust our gameplan.\n",
    "\n",
    "In the first gen corner choice method, Anna combines randomness with prioritzing advancement. The average distance is calculated for each corner. Then, a random number is generated and added to the average distance. This sum is then sorted and used to sort the corners to be chosen. \n",
    "\n",
    "The random number is produced from a normal distribution with mu of 10 and sigma of 2. This allows for some randomness to play in when the average distances of corners are within 3/5 units, but larger discrepancies are unlikely to change the ranking of corners to play. The code for this is within the cornerChoice method:"
   ]
  },
  {
   "cell_type": "code",
   "execution_count": 3,
   "metadata": {
    "collapsed": true
   },
   "outputs": [],
   "source": [
    "def cornerChoice(self):\n",
    "        '''\n",
    "        Chooses the corner where the computer will play.\n",
    "        First play is at the corner of the board. Any following play \n",
    "        requires piece to be placed diagonal to an existing played spot\n",
    "        \n",
    "        rank is an input to choose the rank of the largest average row and column total\n",
    "        e.g. choosing rank 1 will pick the corner furthest from the starting point\n",
    "        each successive rank value corresponds to the order of the row and corner averages\n",
    "        '''\n",
    "        if self.grid[0][0] == 0:\n",
    "            return [[0,0]]\n",
    "        else:\n",
    "        #only deal with pieces played by computer for now. \n",
    "        #ignore pieces played by opponents\n",
    "        \n",
    "            #find points that contain a 1 and then sort them by largest average value\n",
    "            #for starters, return the corner furthest from initial play spot\n",
    "            playedSpots = []\n",
    "            for i in range(20):\n",
    "                for j in range(20):\n",
    "                    if self.grid[i][j] == 1:\n",
    "                        playedSpots.append([(i+j)/2, i, j])\n",
    "                        \n",
    "            #print('playedSpots', playedSpots)\n",
    "            \n",
    "            \n",
    "            #for each played spot, produce as many corner locations that are not adjacent to any existing pieces\n",
    "            cornerSpots = []\n",
    "            direction = ['NE', 'SE', 'NW', 'SW']\n",
    "            for i in range(len(playedSpots)):\n",
    "                for d in direction:\n",
    "                    if Board.cornerCheck(self, playedSpots[i], d):\n",
    "                        \n",
    "                        if Board.adjacentCheck(self, playedSpots[i], d):\n",
    "                            if d == 'NE':\n",
    "                                cornerSpots.append([(playedSpots[i][1]-1) + (playedSpots[i][2]+1)/2, playedSpots[i][1]-1, playedSpots[i][2]+1])\n",
    "                            elif d == 'SE':\n",
    "                                cornerSpots.append([(playedSpots[i][1]+1) + (playedSpots[i][2]+1)/2, playedSpots[i][1]+1, playedSpots[i][2]+1])\n",
    "                            elif d == 'NW':\n",
    "                                cornerSpots.append([(playedSpots[i][1]-1) + (playedSpots[i][2]-1)/2, playedSpots[i][1]-1, playedSpots[i][2]-1])\n",
    "                            else:\n",
    "                                cornerSpots.append([(playedSpots[i][1]+1) + (playedSpots[i][2]-1)/2, playedSpots[i][1]+1, playedSpots[i][2]-1])\n",
    "            \n",
    "            #remove cornerSpots that are not in range\n",
    "            removeList = []\n",
    "            for item in cornerSpots:\n",
    "                if item[1] < 0:\n",
    "                    removeList.append(item)\n",
    "                    continue\n",
    "                if item[2] < 0:\n",
    "                    removeList.append(item)\n",
    "                    continue\n",
    "                if item[2] > 19:\n",
    "                    removeList.append(item)\n",
    "                    continue\n",
    "                if item[2] > 19:\n",
    "                    removeList.append(item)\n",
    "                                   \n",
    "            cornerSpots[:] = [x for x in cornerSpots if x not in removeList]\n",
    "            \n",
    "            #to make the computer's a little more unpredictable, we will add an rng number to the average row/column total before sorting\n",
    "            random.seed()\n",
    "            \n",
    "            randList = []\n",
    "            for i in range(len(cornerSpots)):\n",
    "                #for the randomization, using a normal dist with mu of 10 and sigma 1.5. This will allow for some variation but not a whole lot.\n",
    "                randList.append(random.normalvariate(10, 2))\n",
    "            \n",
    "            for i in range(len(cornerSpots)):\n",
    "                cornerSpots[i][0] = cornerSpots[i][0]+randList[i]\n",
    "            \n",
    "                     \n",
    "            cornerSpots.sort(reverse = True)\n",
    "            #print('cornerSpots', cornerSpots)              \n",
    "            corners = []\n",
    "            for i in range(len(cornerSpots)):\n",
    "                corners.append(cornerSpots[i][1:])                    \n",
    "            \n",
    "            #print(corners)\n",
    "            #return the list of corner spots arranged in order of distance from starting position\n",
    "            return corners"
   ]
  },
  {
   "cell_type": "markdown",
   "metadata": {},
   "source": [
    "### Fitting a Piece onto the Game Board\n",
    "\n",
    "Once a corner has been chosen for play, the pieceAlign method will take a Blokus Piece and map it onto the 20x20 grid. It takes one of the squares of the piece (labeled as an 'edge') and uses that square as the piece to be played at the corner.\n",
    "\n",
    "From there, pieceAlign returns the prospective placements on the board. It also includes the name of the blokus piece it would use. Placements found through pieceAlign will then be fed into the pieceFit method which returns a boolean indicating whether the piece can be played on the board."
   ]
  },
  {
   "cell_type": "markdown",
   "metadata": {},
   "source": [
    "### playPiece Method\n",
    "\n",
    "playPiece puts all the work together in order to have the computer play one move. \n",
    "\n",
    "Here are some highlights of the function:\n",
    "\n",
    "* The method will play the first move that fits onto the gameboard without considering the quality of the move. Once the move fits, playPiece will update self.grid which represents the game board with the computer's move and remove the blokus piece from the registry.\n",
    "\n",
    "\n",
    "* playPiece prioritizes playing the largest sized pieces. It will try fitting every five piece at every available corner before trying to find a place to play a four piece. It will then run through the same exercise in trying to place four pieces on the board. "
   ]
  },
  {
   "cell_type": "markdown",
   "metadata": {},
   "source": [
    "#### Thanks for checking out this project. Reach out for any questions or comments. \n",
    "\n",
    "-Luke"
   ]
  }
 ],
 "metadata": {
  "kernelspec": {
   "display_name": "Python 3",
   "language": "python",
   "name": "python3"
  },
  "language_info": {
   "codemirror_mode": {
    "name": "ipython",
    "version": 3
   },
   "file_extension": ".py",
   "mimetype": "text/x-python",
   "name": "python",
   "nbconvert_exporter": "python",
   "pygments_lexer": "ipython3",
   "version": "3.6.1"
  }
 },
 "nbformat": 4,
 "nbformat_minor": 2
}
